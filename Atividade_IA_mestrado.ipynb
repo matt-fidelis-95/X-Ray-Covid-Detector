{
  "nbformat": 4,
  "nbformat_minor": 0,
  "metadata": {
    "colab": {
      "name": "Atividade_IA_mestrado.ipynb",
      "provenance": [],
      "include_colab_link": true
    },
    "kernelspec": {
      "name": "python3",
      "display_name": "Python 3"
    },
    "accelerator": "GPU"
  },
  "cells": [
    {
      "cell_type": "markdown",
      "metadata": {
        "id": "view-in-github",
        "colab_type": "text"
      },
      "source": [
        "<a href=\"https://colab.research.google.com/github/matt-fidelis-95/X-Ray-Covid-Detector/blob/master/Atividade_IA_mestrado.ipynb\" target=\"_parent\"><img src=\"https://colab.research.google.com/assets/colab-badge.svg\" alt=\"Open In Colab\"/></a>"
      ]
    },
    {
      "cell_type": "code",
      "metadata": {
        "id": "Ya3sWrm5lO11",
        "colab_type": "code",
        "colab": {
          "base_uri": "https://localhost:8080/",
          "height": 34
        },
        "outputId": "2f864373-d2fc-42fd-a932-6b7700167b13"
      },
      "source": [
        "\n",
        "from google.colab import drive\n",
        "drive.mount('/content/gdrive')"
      ],
      "execution_count": null,
      "outputs": [
        {
          "output_type": "stream",
          "text": [
            "Drive already mounted at /content/gdrive; to attempt to forcibly remount, call drive.mount(\"/content/gdrive\", force_remount=True).\n"
          ],
          "name": "stdout"
        }
      ]
    },
    {
      "cell_type": "code",
      "metadata": {
        "id": "mmWRdpcqJsP6",
        "colab_type": "code",
        "colab": {}
      },
      "source": [
        "import urllib.request\n",
        "import os\n",
        "from PIL import Image,ImageStat\n",
        "import numpy as np\n",
        "import matplotlib.pyplot as plt\n",
        "\n",
        "import torchvision\n",
        "import torch\n",
        "import torch.nn as nn\n",
        "from torch.utils.data import  DataLoader\n",
        "import torchvision.transforms as transforms\n",
        "import torch.functional as F\n",
        "\n",
        "main_dir = \"/content/gdrive/My Drive/datasets/X-Ray Image DataSet\"\n",
        "os.chdir(main_dir)"
      ],
      "execution_count": null,
      "outputs": []
    },
    {
      "cell_type": "code",
      "metadata": {
        "id": "i23jEFDz25h9",
        "colab_type": "code",
        "colab": {
          "base_uri": "https://localhost:8080/",
          "height": 34
        },
        "outputId": "888a29e7-a7e5-4a9b-c0ac-8321e1051096"
      },
      "source": [
        "!pwd"
      ],
      "execution_count": null,
      "outputs": [
        {
          "output_type": "stream",
          "text": [
            "/content/gdrive/My Drive/datasets/X-Ray Image DataSet\n"
          ],
          "name": "stdout"
        }
      ]
    },
    {
      "cell_type": "markdown",
      "metadata": {
        "id": "lJXPRZZBue0B",
        "colab_type": "text"
      },
      "source": [
        "# Carregando os dados em um dataloader"
      ]
    },
    {
      "cell_type": "code",
      "metadata": {
        "id": "1pjR8su2HZe0",
        "colab_type": "code",
        "colab": {}
      },
      "source": [
        "def image_loader(img):\n",
        "    return Image.open(img).convert('RGB')"
      ],
      "execution_count": null,
      "outputs": []
    },
    {
      "cell_type": "code",
      "metadata": {
        "id": "PAelrwVKKame",
        "colab_type": "code",
        "colab": {}
      },
      "source": [
        "image_loader = lambda x: Image.open(x).convert('RGB')"
      ],
      "execution_count": null,
      "outputs": []
    },
    {
      "cell_type": "code",
      "metadata": {
        "id": "z71c6x0GiNFq",
        "colab_type": "code",
        "colab": {}
      },
      "source": [
        "class ToNorm(object):\n",
        "    def __call__(self,img):\n",
        "        mean = torch.mean(img)\n",
        "        std  = torch.std(img)\n",
        "        return (img - mean)/std"
      ],
      "execution_count": null,
      "outputs": []
    },
    {
      "cell_type": "code",
      "metadata": {
        "id": "CCay4dwIN8-I",
        "colab_type": "code",
        "colab": {}
      },
      "source": [
        "transform = transforms.Compose([transforms.Resize((256,256)),\n",
        "                                transforms.ToTensor(),\n",
        "                                ToNorm()\n",
        "                            ])"
      ],
      "execution_count": null,
      "outputs": []
    },
    {
      "cell_type": "code",
      "metadata": {
        "id": "LAJpxWF7Gjrf",
        "colab_type": "code",
        "colab": {}
      },
      "source": [
        "dataset = torchvision.datasets.DatasetFolder(main_dir,loader = image_loader,extensions=('jpg','jpeg','png'),transform=transform )"
      ],
      "execution_count": null,
      "outputs": []
    },
    {
      "cell_type": "code",
      "metadata": {
        "id": "InabtW-xdLMO",
        "colab_type": "code",
        "colab": {
          "base_uri": "https://localhost:8080/",
          "height": 34
        },
        "outputId": "dfc698e6-0564-4f2a-8959-88cc49e565a5"
      },
      "source": [
        "dataset.class_to_idx['No_findings']"
      ],
      "execution_count": null,
      "outputs": [
        {
          "output_type": "execute_result",
          "data": {
            "text/plain": [
              "1"
            ]
          },
          "metadata": {
            "tags": []
          },
          "execution_count": 9
        }
      ]
    },
    {
      "cell_type": "code",
      "metadata": {
        "id": "HMII30s3Lxsj",
        "colab_type": "code",
        "colab": {}
      },
      "source": [
        "dl = DataLoader(dataset,batch_size=32)"
      ],
      "execution_count": null,
      "outputs": []
    },
    {
      "cell_type": "code",
      "metadata": {
        "id": "5By4oYkoMVbA",
        "colab_type": "code",
        "colab": {}
      },
      "source": [
        "data,class_att = next(iter(dl))"
      ],
      "execution_count": null,
      "outputs": []
    },
    {
      "cell_type": "code",
      "metadata": {
        "id": "YQMepORiMbCO",
        "colab_type": "code",
        "colab": {}
      },
      "source": [
        "grid_img = torchvision.utils.make_grid(data,nrow=5)"
      ],
      "execution_count": null,
      "outputs": []
    },
    {
      "cell_type": "code",
      "metadata": {
        "id": "99Rt_WcGkWeb",
        "colab_type": "code",
        "colab": {
          "base_uri": "https://localhost:8080/",
          "height": 34
        },
        "outputId": "4e6ac9e0-5f04-401e-9960-1b3d24c7023d"
      },
      "source": [
        "grid_img.shape"
      ],
      "execution_count": null,
      "outputs": [
        {
          "output_type": "execute_result",
          "data": {
            "text/plain": [
              "torch.Size([3, 1808, 1292])"
            ]
          },
          "metadata": {
            "tags": []
          },
          "execution_count": 13
        }
      ]
    },
    {
      "cell_type": "code",
      "metadata": {
        "id": "LZC2UJZXkZ0a",
        "colab_type": "code",
        "colab": {
          "base_uri": "https://localhost:8080/",
          "height": 303
        },
        "outputId": "156843e0-cfd2-44da-a946-fff9c66bcd4d"
      },
      "source": [
        "plt.imshow(grid_img.permute(1,2,0))"
      ],
      "execution_count": null,
      "outputs": [
        {
          "output_type": "stream",
          "text": [
            "Clipping input data to the valid range for imshow with RGB data ([0..1] for floats or [0..255] for integers).\n"
          ],
          "name": "stderr"
        },
        {
          "output_type": "execute_result",
          "data": {
            "text/plain": [
              "<matplotlib.image.AxesImage at 0x7fe86b4f0128>"
            ]
          },
          "metadata": {
            "tags": []
          },
          "execution_count": 14
        },
        {
          "output_type": "display_data",
          "data": {
            "image/png": "[encoded data removed]",
            "text/plain": [
              "<Figure size 432x288 with 1 Axes>"
            ]
          },
          "metadata": {
            "tags": [],
            "needs_background": "light"
          }
        }
      ]
    },
    {
      "cell_type": "markdown",
      "metadata": {
        "id": "ZfVJVxt_ul0L",
        "colab_type": "text"
      },
      "source": [
        "# Construção de rede convolucional"
      ]
    },
    {
      "cell_type": "code",
      "metadata": {
        "id": "PA9PqaERkgfa",
        "colab_type": "code",
        "colab": {}
      },
      "source": [
        "class LeNet5(nn.Module):\n",
        "    def __init__(self):\n",
        "        super(LeNet5,self).__init__()\n",
        "        self.backbone = nn.Sequential(\n",
        "            nn.Conv2d(in_channels=3,out_channels=8,kernel_size=3, stride=1,padding=1,bias=False),\n",
        "            nn.BatchNorm2d(8),\n",
        "            nn.LeakyReLU(negative_slope=0.1, inplace=True),\n",
        "            nn.MaxPool2d(2, stride=2),\n",
        "\n",
        "            nn.Conv2d(in_channels=8,out_channels=16,kernel_size=3, stride=1,padding=1,bias=False),\n",
        "            nn.BatchNorm2d(16),\n",
        "            nn.LeakyReLU(negative_slope=0.1, inplace=True),\n",
        "            nn.MaxPool2d(2, stride=2),\n",
        "\n",
        "            nn.Conv2d(in_channels=16,out_channels=32,kernel_size=3, stride=1,padding=1,bias=False),\n",
        "            nn.BatchNorm2d(32),\n",
        "            nn.LeakyReLU(negative_slope=0.1, inplace=True),\n",
        "\n",
        "            nn.Conv2d(in_channels=32,out_channels=16,kernel_size=1, stride=1,padding=1,bias=False),\n",
        "            nn.BatchNorm2d(16),\n",
        "            nn.LeakyReLU(negative_slope=0.1, inplace=True),\n",
        "\n",
        "            nn.Conv2d(in_channels=16,out_channels=32,kernel_size=3, stride=1,padding=1,bias=False),\n",
        "            nn.BatchNorm2d(32),\n",
        "            nn.LeakyReLU(negative_slope=0.1, inplace=True),\n",
        "            nn.MaxPool2d(2, stride=2),\n",
        "\n",
        "            nn.Conv2d(in_channels=32,out_channels=64,kernel_size=3, stride=1,padding=1,bias=False),\n",
        "            nn.BatchNorm2d(64),\n",
        "            nn.LeakyReLU(negative_slope=0.1, inplace=True),\n",
        "\n",
        "            nn.Conv2d(in_channels=64,out_channels=32,kernel_size=1, stride=1,padding=1,bias=False),\n",
        "            nn.BatchNorm2d(32),\n",
        "            nn.LeakyReLU(negative_slope=0.1, inplace=True),\n",
        "\n",
        "            nn.Conv2d(in_channels=32,out_channels=64,kernel_size=3, stride=1,padding=1,bias=False),\n",
        "            nn.BatchNorm2d(64),\n",
        "            nn.LeakyReLU(negative_slope=0.1, inplace=True),\n",
        "            nn.MaxPool2d(2, stride=2),\n",
        "        \n",
        "            nn.Conv2d(in_channels=64,out_channels=128,kernel_size=3, stride=1,padding=1,bias=False),\n",
        "            nn.BatchNorm2d(128),\n",
        "            nn.LeakyReLU(negative_slope=0.1, inplace=True),\n",
        "\n",
        "            nn.Conv2d(in_channels=128,out_channels=64,kernel_size=1, stride=1,padding=1,bias=False),\n",
        "            nn.BatchNorm2d(64),\n",
        "            nn.LeakyReLU(negative_slope=0.1, inplace=True),\n",
        "\n",
        "            nn.Conv2d(in_channels=64,out_channels=128,kernel_size=3, stride=1,padding=1,bias=False),\n",
        "            nn.BatchNorm2d(128),\n",
        "            nn.LeakyReLU(negative_slope=0.1, inplace=True),\n",
        "            nn.MaxPool2d(2, stride=2),\n",
        "\n",
        "            nn.Conv2d(in_channels=128,out_channels=256,kernel_size=3, stride=1,padding=1,bias=False),\n",
        "            nn.BatchNorm2d(256),\n",
        "            nn.LeakyReLU(negative_slope=0.1, inplace=True),\n",
        "\n",
        "            nn.Conv2d(in_channels=256,out_channels=128,kernel_size=1, stride=1,padding=1,bias=False),\n",
        "            nn.BatchNorm2d(128),\n",
        "            nn.LeakyReLU(negative_slope=0.1, inplace=True),\n",
        "\n",
        "            nn.Conv2d(in_channels=128,out_channels=256,kernel_size=3, stride=1,padding=1,bias=False),\n",
        "            nn.BatchNorm2d(256),\n",
        "            nn.LeakyReLU(negative_slope=0.1, inplace=True),\n",
        "           \n",
        "            nn.Conv2d(in_channels=256,out_channels=128,kernel_size=1, stride=1,padding=1,bias=False),\n",
        "            nn.BatchNorm2d(128),\n",
        "            nn.LeakyReLU(negative_slope=0.1, inplace=True),\n",
        "\n",
        "            nn.Conv2d(in_channels=128,out_channels=256,kernel_size=3, stride=1,padding=1,bias=False),\n",
        "            nn.BatchNorm2d(256),\n",
        "            nn.LeakyReLU(negative_slope=0.1, inplace=True),\n",
        " \n",
        "            nn.Conv2d(in_channels=256,out_channels=3,kernel_size=3, stride=1, padding=1),\n",
        "            nn.BatchNorm2d(3),\n",
        "            nn.ReLU(),\n",
        "\n",
        "            nn.Flatten()\n",
        "        );\n",
        "        self.classifier = nn.Sequential(   \n",
        "        nn.Linear(507, 3)\n",
        "        )\n",
        "    def forward(self,x):\n",
        "        x = self.backbone(x)\n",
        "        x = self.classifier(x)\n",
        "        return x"
      ],
      "execution_count": null,
      "outputs": []
    },
    {
      "cell_type": "code",
      "metadata": {
        "id": "Rf0pSvnhk9TG",
        "colab_type": "code",
        "colab": {}
      },
      "source": [
        "model = LeNet5()"
      ],
      "execution_count": null,
      "outputs": []
    },
    {
      "cell_type": "code",
      "metadata": {
        "id": "m0aVojy4UPX5",
        "colab_type": "code",
        "colab": {}
      },
      "source": [
        "from sklearn.model_selection import StratifiedKFold"
      ],
      "execution_count": null,
      "outputs": []
    },
    {
      "cell_type": "code",
      "metadata": {
        "id": "byN4rCpYUc5C",
        "colab_type": "code",
        "colab": {}
      },
      "source": [
        "x = torch.tensor(np.ones(10))\n",
        "y = torch.tensor([0, 0, 0, 0, 1, 1, 1, 1, 1, 1])\n",
        "skf = StratifiedKFold(n_splits=5)"
      ],
      "execution_count": null,
      "outputs": []
    },
    {
      "cell_type": "code",
      "metadata": {
        "id": "Movz8KnHUgJJ",
        "colab_type": "code",
        "colab": {
          "base_uri": "https://localhost:8080/",
          "height": 156
        },
        "outputId": "e1a915a5-c994-4743-8099-287df474c084"
      },
      "source": [
        "for train, test in skf.split(x, y):\n",
        "    print(train,test)"
      ],
      "execution_count": null,
      "outputs": [
        {
          "output_type": "stream",
          "text": [
            "[1 2 3 5 6 7 8 9] [0 4]\n",
            "[0 2 3 4 6 7 8 9] [1 5]\n",
            "[0 1 3 4 5 7 8 9] [2 6]\n",
            "[0 1 2 4 5 6 8 9] [3 7]\n",
            "[0 1 2 3 4 5 6 7] [8 9]\n"
          ],
          "name": "stdout"
        },
        {
          "output_type": "stream",
          "text": [
            "/usr/local/lib/python3.6/dist-packages/sklearn/model_selection/_split.py:667: UserWarning: The least populated class in y has only 4 members, which is less than n_splits=5.\n",
            "  % (min_groups, self.n_splits)), UserWarning)\n"
          ],
          "name": "stderr"
        }
      ]
    },
    {
      "cell_type": "code",
      "metadata": {
        "id": "_KdkIihjUn8J",
        "colab_type": "code",
        "colab": {}
      },
      "source": [
        "def data_split(dataset,lists):\n",
        "    return [torch.utils.data.Subset(dataset, llist ) for llist in lists]"
      ],
      "execution_count": null,
      "outputs": []
    },
    {
      "cell_type": "code",
      "metadata": {
        "id": "wQRDdJ_kIO8Z",
        "colab_type": "code",
        "colab": {
          "base_uri": "https://localhost:8080/",
          "height": 1000
        },
        "outputId": "cc67c176-2c5f-4b61-813b-ed43f86b82c1"
      },
      "source": [
        "model"
      ],
      "execution_count": null,
      "outputs": [
        {
          "output_type": "execute_result",
          "data": {
            "text/plain": [
              "LeNet5(\n",
              "  (backbone): Sequential(\n",
              "    (0): Conv2d(3, 8, kernel_size=(3, 3), stride=(1, 1), padding=(1, 1), bias=False)\n",
              "    (1): BatchNorm2d(8, eps=1e-05, momentum=0.1, affine=True, track_running_stats=True)\n",
              "    (2): LeakyReLU(negative_slope=0.1, inplace=True)\n",
              "    (3): MaxPool2d(kernel_size=2, stride=2, padding=0, dilation=1, ceil_mode=False)\n",
              "    (4): Conv2d(8, 16, kernel_size=(3, 3), stride=(1, 1), padding=(1, 1), bias=False)\n",
              "    (5): BatchNorm2d(16, eps=1e-05, momentum=0.1, affine=True, track_running_stats=True)\n",
              "    (6): LeakyReLU(negative_slope=0.1, inplace=True)\n",
              "    (7): MaxPool2d(kernel_size=2, stride=2, padding=0, dilation=1, ceil_mode=False)\n",
              "    (8): Conv2d(16, 32, kernel_size=(3, 3), stride=(1, 1), padding=(1, 1), bias=False)\n",
              "    (9): BatchNorm2d(32, eps=1e-05, momentum=0.1, affine=True, track_running_stats=True)\n",
              "    (10): LeakyReLU(negative_slope=0.1, inplace=True)\n",
              "    (11): Conv2d(32, 16, kernel_size=(1, 1), stride=(1, 1), padding=(1, 1), bias=False)\n",
              "    (12): BatchNorm2d(16, eps=1e-05, momentum=0.1, affine=True, track_running_stats=True)\n",
              "    (13): LeakyReLU(negative_slope=0.1, inplace=True)\n",
              "    (14): Conv2d(16, 32, kernel_size=(3, 3), stride=(1, 1), padding=(1, 1), bias=False)\n",
              "    (15): BatchNorm2d(32, eps=1e-05, momentum=0.1, affine=True, track_running_stats=True)\n",
              "    (16): LeakyReLU(negative_slope=0.1, inplace=True)\n",
              "    (17): MaxPool2d(kernel_size=2, stride=2, padding=0, dilation=1, ceil_mode=False)\n",
              "    (18): Conv2d(32, 64, kernel_size=(3, 3), stride=(1, 1), padding=(1, 1), bias=False)\n",
              "    (19): BatchNorm2d(64, eps=1e-05, momentum=0.1, affine=True, track_running_stats=True)\n",
              "    (20): LeakyReLU(negative_slope=0.1, inplace=True)\n",
              "    (21): Conv2d(64, 32, kernel_size=(1, 1), stride=(1, 1), padding=(1, 1), bias=False)\n",
              "    (22): BatchNorm2d(32, eps=1e-05, momentum=0.1, affine=True, track_running_stats=True)\n",
              "    (23): LeakyReLU(negative_slope=0.1, inplace=True)\n",
              "    (24): Conv2d(32, 64, kernel_size=(3, 3), stride=(1, 1), padding=(1, 1), bias=False)\n",
              "    (25): BatchNorm2d(64, eps=1e-05, momentum=0.1, affine=True, track_running_stats=True)\n",
              "    (26): LeakyReLU(negative_slope=0.1, inplace=True)\n",
              "    (27): MaxPool2d(kernel_size=2, stride=2, padding=0, dilation=1, ceil_mode=False)\n",
              "    (28): Conv2d(64, 128, kernel_size=(3, 3), stride=(1, 1), padding=(1, 1), bias=False)\n",
              "    (29): BatchNorm2d(128, eps=1e-05, momentum=0.1, affine=True, track_running_stats=True)\n",
              "    (30): LeakyReLU(negative_slope=0.1, inplace=True)\n",
              "    (31): Conv2d(128, 64, kernel_size=(1, 1), stride=(1, 1), padding=(1, 1), bias=False)\n",
              "    (32): BatchNorm2d(64, eps=1e-05, momentum=0.1, affine=True, track_running_stats=True)\n",
              "    (33): LeakyReLU(negative_slope=0.1, inplace=True)\n",
              "    (34): Conv2d(64, 128, kernel_size=(3, 3), stride=(1, 1), padding=(1, 1), bias=False)\n",
              "    (35): BatchNorm2d(128, eps=1e-05, momentum=0.1, affine=True, track_running_stats=True)\n",
              "    (36): LeakyReLU(negative_slope=0.1, inplace=True)\n",
              "    (37): MaxPool2d(kernel_size=2, stride=2, padding=0, dilation=1, ceil_mode=False)\n",
              "    (38): Conv2d(128, 256, kernel_size=(3, 3), stride=(1, 1), padding=(1, 1), bias=False)\n",
              "    (39): BatchNorm2d(256, eps=1e-05, momentum=0.1, affine=True, track_running_stats=True)\n",
              "    (40): LeakyReLU(negative_slope=0.1, inplace=True)\n",
              "    (41): Conv2d(256, 128, kernel_size=(1, 1), stride=(1, 1), padding=(1, 1), bias=False)\n",
              "    (42): BatchNorm2d(128, eps=1e-05, momentum=0.1, affine=True, track_running_stats=True)\n",
              "    (43): LeakyReLU(negative_slope=0.1, inplace=True)\n",
              "    (44): Conv2d(128, 256, kernel_size=(3, 3), stride=(1, 1), padding=(1, 1), bias=False)\n",
              "    (45): BatchNorm2d(256, eps=1e-05, momentum=0.1, affine=True, track_running_stats=True)\n",
              "    (46): LeakyReLU(negative_slope=0.1, inplace=True)\n",
              "    (47): Conv2d(256, 128, kernel_size=(1, 1), stride=(1, 1), padding=(1, 1), bias=False)\n",
              "    (48): BatchNorm2d(128, eps=1e-05, momentum=0.1, affine=True, track_running_stats=True)\n",
              "    (49): LeakyReLU(negative_slope=0.1, inplace=True)\n",
              "    (50): Conv2d(128, 256, kernel_size=(3, 3), stride=(1, 1), padding=(1, 1), bias=False)\n",
              "    (51): BatchNorm2d(256, eps=1e-05, momentum=0.1, affine=True, track_running_stats=True)\n",
              "    (52): LeakyReLU(negative_slope=0.1, inplace=True)\n",
              "    (53): Conv2d(256, 3, kernel_size=(3, 3), stride=(1, 1), padding=(1, 1))\n",
              "    (54): BatchNorm2d(3, eps=1e-05, momentum=0.1, affine=True, track_running_stats=True)\n",
              "    (55): ReLU()\n",
              "    (56): Flatten()\n",
              "  )\n",
              "  (classifier): Sequential(\n",
              "    (0): Linear(in_features=507, out_features=3, bias=True)\n",
              "  )\n",
              ")"
            ]
          },
          "metadata": {
            "tags": []
          },
          "execution_count": 21
        }
      ]
    },
    {
      "cell_type": "code",
      "metadata": {
        "id": "6WhP-lUozgWF",
        "colab_type": "code",
        "colab": {}
      },
      "source": [
        "#for p in model.modules():\n",
        "#    if isinstance(p, nn.Linear) or isinstance(p,nn.Conv2d):\n",
        "#        nn.init.kaiming_normal_(p.weight, mode='fan_out', nonlinearity='relu')\n"
      ],
      "execution_count": null,
      "outputs": []
    },
    {
      "cell_type": "code",
      "metadata": {
        "id": "x5JFkFuDnlve",
        "colab_type": "code",
        "colab": {}
      },
      "source": [
        "import torchsummary"
      ],
      "execution_count": null,
      "outputs": []
    },
    {
      "cell_type": "code",
      "metadata": {
        "id": "Peh9KNNcnnjI",
        "colab_type": "code",
        "colab": {
          "base_uri": "https://localhost:8080/",
          "height": 1000
        },
        "outputId": "96d3d65e-5c25-4a48-ec9a-086a42f75eb2"
      },
      "source": [
        "torchsummary.summary(model,(3,256,256),device='cpu')"
      ],
      "execution_count": null,
      "outputs": [
        {
          "output_type": "stream",
          "text": [
            "----------------------------------------------------------------\n",
            "        Layer (type)               Output Shape         Param #\n",
            "================================================================\n",
            "            Conv2d-1          [-1, 8, 256, 256]             216\n",
            "       BatchNorm2d-2          [-1, 8, 256, 256]              16\n",
            "         LeakyReLU-3          [-1, 8, 256, 256]               0\n",
            "         MaxPool2d-4          [-1, 8, 128, 128]               0\n",
            "            Conv2d-5         [-1, 16, 128, 128]           1,152\n",
            "       BatchNorm2d-6         [-1, 16, 128, 128]              32\n",
            "         LeakyReLU-7         [-1, 16, 128, 128]               0\n",
            "         MaxPool2d-8           [-1, 16, 64, 64]               0\n",
            "            Conv2d-9           [-1, 32, 64, 64]           4,608\n",
            "      BatchNorm2d-10           [-1, 32, 64, 64]              64\n",
            "        LeakyReLU-11           [-1, 32, 64, 64]               0\n",
            "           Conv2d-12           [-1, 16, 66, 66]             512\n",
            "      BatchNorm2d-13           [-1, 16, 66, 66]              32\n",
            "        LeakyReLU-14           [-1, 16, 66, 66]               0\n",
            "           Conv2d-15           [-1, 32, 66, 66]           4,608\n",
            "      BatchNorm2d-16           [-1, 32, 66, 66]              64\n",
            "        LeakyReLU-17           [-1, 32, 66, 66]               0\n",
            "        MaxPool2d-18           [-1, 32, 33, 33]               0\n",
            "           Conv2d-19           [-1, 64, 33, 33]          18,432\n",
            "      BatchNorm2d-20           [-1, 64, 33, 33]             128\n",
            "        LeakyReLU-21           [-1, 64, 33, 33]               0\n",
            "           Conv2d-22           [-1, 32, 35, 35]           2,048\n",
            "      BatchNorm2d-23           [-1, 32, 35, 35]              64\n",
            "        LeakyReLU-24           [-1, 32, 35, 35]               0\n",
            "           Conv2d-25           [-1, 64, 35, 35]          18,432\n",
            "      BatchNorm2d-26           [-1, 64, 35, 35]             128\n",
            "        LeakyReLU-27           [-1, 64, 35, 35]               0\n",
            "        MaxPool2d-28           [-1, 64, 17, 17]               0\n",
            "           Conv2d-29          [-1, 128, 17, 17]          73,728\n",
            "      BatchNorm2d-30          [-1, 128, 17, 17]             256\n",
            "        LeakyReLU-31          [-1, 128, 17, 17]               0\n",
            "           Conv2d-32           [-1, 64, 19, 19]           8,192\n",
            "      BatchNorm2d-33           [-1, 64, 19, 19]             128\n",
            "        LeakyReLU-34           [-1, 64, 19, 19]               0\n",
            "           Conv2d-35          [-1, 128, 19, 19]          73,728\n",
            "      BatchNorm2d-36          [-1, 128, 19, 19]             256\n",
            "        LeakyReLU-37          [-1, 128, 19, 19]               0\n",
            "        MaxPool2d-38            [-1, 128, 9, 9]               0\n",
            "           Conv2d-39            [-1, 256, 9, 9]         294,912\n",
            "      BatchNorm2d-40            [-1, 256, 9, 9]             512\n",
            "        LeakyReLU-41            [-1, 256, 9, 9]               0\n",
            "           Conv2d-42          [-1, 128, 11, 11]          32,768\n",
            "      BatchNorm2d-43          [-1, 128, 11, 11]             256\n",
            "        LeakyReLU-44          [-1, 128, 11, 11]               0\n",
            "           Conv2d-45          [-1, 256, 11, 11]         294,912\n",
            "      BatchNorm2d-46          [-1, 256, 11, 11]             512\n",
            "        LeakyReLU-47          [-1, 256, 11, 11]               0\n",
            "           Conv2d-48          [-1, 128, 13, 13]          32,768\n",
            "      BatchNorm2d-49          [-1, 128, 13, 13]             256\n",
            "        LeakyReLU-50          [-1, 128, 13, 13]               0\n",
            "           Conv2d-51          [-1, 256, 13, 13]         294,912\n",
            "      BatchNorm2d-52          [-1, 256, 13, 13]             512\n",
            "        LeakyReLU-53          [-1, 256, 13, 13]               0\n",
            "           Conv2d-54            [-1, 3, 13, 13]           6,915\n",
            "      BatchNorm2d-55            [-1, 3, 13, 13]               6\n",
            "             ReLU-56            [-1, 3, 13, 13]               0\n",
            "          Flatten-57                  [-1, 507]               0\n",
            "           Linear-58                    [-1, 3]           1,524\n",
            "================================================================\n",
            "Total params: 1,167,589\n",
            "Trainable params: 1,167,589\n",
            "Non-trainable params: 0\n",
            "----------------------------------------------------------------\n",
            "Input size (MB): 0.75\n",
            "Forward/backward pass size (MB): 37.53\n",
            "Params size (MB): 4.45\n",
            "Estimated Total Size (MB): 42.73\n",
            "----------------------------------------------------------------\n"
          ],
          "name": "stdout"
        }
      ]
    },
    {
      "cell_type": "markdown",
      "metadata": {
        "id": "hpxnIJgQuvWt",
        "colab_type": "text"
      },
      "source": [
        "# Agora vamos treiná-la"
      ]
    },
    {
      "cell_type": "code",
      "metadata": {
        "id": "KHtZVAjlpXrq",
        "colab_type": "code",
        "colab": {}
      },
      "source": [
        "import torch.optim as optim"
      ],
      "execution_count": null,
      "outputs": []
    },
    {
      "cell_type": "code",
      "metadata": {
        "id": "2hSIILz4xbwS",
        "colab_type": "code",
        "colab": {
          "base_uri": "https://localhost:8080/",
          "height": 496
        },
        "outputId": "df805e3d-f836-475e-c286-009c63223d22"
      },
      "source": [
        "!pip install --upgrade wandb\n",
        "!wandb login 94dd02310d3352a1eb5de99f052897610a3c0fb6"
      ],
      "execution_count": null,
      "outputs": [
        {
          "output_type": "stream",
          "text": [
            "Requirement already up-to-date: wandb in /usr/local/lib/python3.6/dist-packages (0.9.1)\n",
            "Requirement already satisfied, skipping upgrade: docker-pycreds>=0.4.0 in /usr/local/lib/python3.6/dist-packages (from wandb) (0.4.0)\n",
            "Requirement already satisfied, skipping upgrade: requests>=2.0.0 in /usr/local/lib/python3.6/dist-packages (from wandb) (2.23.0)\n",
            "Requirement already satisfied, skipping upgrade: watchdog>=0.8.3 in /usr/local/lib/python3.6/dist-packages (from wandb) (0.10.2)\n",
            "Requirement already satisfied, skipping upgrade: python-dateutil>=2.6.1 in /usr/local/lib/python3.6/dist-packages (from wandb) (2.8.1)\n",
            "Requirement already satisfied, skipping upgrade: gql==0.2.0 in /usr/local/lib/python3.6/dist-packages (from wandb) (0.2.0)\n",
            "Requirement already satisfied, skipping upgrade: six>=1.10.0 in /usr/local/lib/python3.6/dist-packages (from wandb) (1.12.0)\n",
            "Requirement already satisfied, skipping upgrade: Click>=7.0 in /usr/local/lib/python3.6/dist-packages (from wandb) (7.1.2)\n",
            "Requirement already satisfied, skipping upgrade: psutil>=5.0.0 in /usr/local/lib/python3.6/dist-packages (from wandb) (5.4.8)\n",
            "Requirement already satisfied, skipping upgrade: shortuuid>=0.5.0 in /usr/local/lib/python3.6/dist-packages (from wandb) (1.0.1)\n",
            "Requirement already satisfied, skipping upgrade: subprocess32>=3.5.3 in /usr/local/lib/python3.6/dist-packages (from wandb) (3.5.4)\n",
            "Requirement already satisfied, skipping upgrade: PyYAML>=3.10 in /usr/local/lib/python3.6/dist-packages (from wandb) (3.13)\n",
            "Requirement already satisfied, skipping upgrade: configparser>=3.8.1 in /usr/local/lib/python3.6/dist-packages (from wandb) (5.0.0)\n",
            "Requirement already satisfied, skipping upgrade: sentry-sdk>=0.4.0 in /usr/local/lib/python3.6/dist-packages (from wandb) (0.14.4)\n",
            "Requirement already satisfied, skipping upgrade: nvidia-ml-py3>=7.352.0 in /usr/local/lib/python3.6/dist-packages (from wandb) (7.352.0)\n",
            "Requirement already satisfied, skipping upgrade: GitPython>=1.0.0 in /usr/local/lib/python3.6/dist-packages (from wandb) (3.1.3)\n",
            "Requirement already satisfied, skipping upgrade: chardet<4,>=3.0.2 in /usr/local/lib/python3.6/dist-packages (from requests>=2.0.0->wandb) (3.0.4)\n",
            "Requirement already satisfied, skipping upgrade: urllib3!=1.25.0,!=1.25.1,<1.26,>=1.21.1 in /usr/local/lib/python3.6/dist-packages (from requests>=2.0.0->wandb) (1.24.3)\n",
            "Requirement already satisfied, skipping upgrade: certifi>=2017.4.17 in /usr/local/lib/python3.6/dist-packages (from requests>=2.0.0->wandb) (2020.4.5.1)\n",
            "Requirement already satisfied, skipping upgrade: idna<3,>=2.5 in /usr/local/lib/python3.6/dist-packages (from requests>=2.0.0->wandb) (2.9)\n",
            "Requirement already satisfied, skipping upgrade: pathtools>=0.1.1 in /usr/local/lib/python3.6/dist-packages (from watchdog>=0.8.3->wandb) (0.1.2)\n",
            "Requirement already satisfied, skipping upgrade: graphql-core<2,>=0.5.0 in /usr/local/lib/python3.6/dist-packages (from gql==0.2.0->wandb) (1.1)\n",
            "Requirement already satisfied, skipping upgrade: promise<3,>=2.0 in /usr/local/lib/python3.6/dist-packages (from gql==0.2.0->wandb) (2.3)\n",
            "Requirement already satisfied, skipping upgrade: gitdb<5,>=4.0.1 in /usr/local/lib/python3.6/dist-packages (from GitPython>=1.0.0->wandb) (4.0.5)\n",
            "Requirement already satisfied, skipping upgrade: smmap<4,>=3.0.1 in /usr/local/lib/python3.6/dist-packages (from gitdb<5,>=4.0.1->GitPython>=1.0.0->wandb) (3.0.4)\n",
            "\u001b[34m\u001b[1mwandb\u001b[0m: Appending key for api.wandb.ai to your netrc file: /root/.netrc\n",
            "\u001b[32mSuccessfully logged in to Weights & Biases!\u001b[0m\n"
          ],
          "name": "stdout"
        }
      ]
    },
    {
      "cell_type": "code",
      "metadata": {
        "id": "H1k0zucgWXAA",
        "colab_type": "code",
        "colab": {}
      },
      "source": [
        "\n",
        "def train_model(dl,model,opt,criterion,epochs,device):\n",
        "    model.to(device)\n",
        "    model.train()\n",
        "    lloss = []\n",
        "    for epoch in range(epochs):\n",
        "        for x,y in dl:\n",
        "            x = x.to(device)\n",
        "            y = y.to(device)\n",
        "            pred = model(x)\n",
        "            loss = criterion(pred,y)\n",
        "            loss.backward()\n",
        "            opt.step()\n",
        "            opt.zero_grad()\n",
        "            lloss.append(loss.item())\n",
        "        wandb.log({'training loss':np.mean(lloss)})\n",
        "        \n"
      ],
      "execution_count": null,
      "outputs": []
    },
    {
      "cell_type": "code",
      "metadata": {
        "id": "O7OHf5yKY6x-",
        "colab_type": "code",
        "colab": {}
      },
      "source": [
        "from sklearn.metrics import accuracy_score"
      ],
      "execution_count": null,
      "outputs": []
    },
    {
      "cell_type": "code",
      "metadata": {
        "id": "wKfA9ACMYn0p",
        "colab_type": "code",
        "colab": {}
      },
      "source": [
        "def evaluate(dl,model,criterion):\n",
        "    model.to(device)\n",
        "    model.eval()\n",
        "    lacc  = []\n",
        "    lloss = []\n",
        "    with torch.no_grad():\n",
        "        for x,y in dl:\n",
        "            x = x.to(device)\n",
        "            pred = model(x)\n",
        "            loss = criterion(pred,y.to(device)) \n",
        "            y_pred = pred.argmax(dim=1).cpu()\n",
        "            acc = accuracy_score(y,y_pred)\n",
        "            lacc.append(acc)\n",
        "            lloss.append(loss.item())\n",
        "    return np.mean(lacc),np.mean(lloss)\n"
      ],
      "execution_count": null,
      "outputs": []
    },
    {
      "cell_type": "code",
      "metadata": {
        "id": "j-HjSo1OV4KD",
        "colab_type": "code",
        "colab": {
          "base_uri": "https://localhost:8080/",
          "height": 170
        },
        "outputId": "cf1d37ac-2649-4990-8c8c-e140abc2c42b"
      },
      "source": [
        "import wandb\n",
        "lacc = []\n",
        "device = torch.device('cuda:0')\n",
        "wandb.init(project=\"aula\")\n",
        "wandb.watch(model)\n",
        "for train, test in skf.split(range(len(dataset)), dataset.targets):\n",
        "    ds_train,ds_test = data_split(dataset,(train,test))\n",
        "    \n",
        "\n",
        "    model = LeNet5()\n",
        "    #for p in model.modules():\n",
        "    #  if isinstance(p, nn.Linear) or isinstance(p,nn.Conv2d):\n",
        "    #     nn.init.kaiming_normal_(p.weight, mode='fan_out', nonlinearity='relu')\n",
        "    #model = torchvision.models.mobilenet_v2(pretrained=True)\n",
        "    #model.classifier[1] = nn.Linear(1280,2) \n",
        "    \n",
        "    criterion  = nn.CrossEntropyLoss()\n",
        "    opt   = optim.Adam(model.parameters(),lr=0.003)\n",
        "    \n",
        "    dl_train = torch.utils.data.DataLoader(ds_train,batch_size=32, shuffle=True)\n",
        "    dl_test  = torch.utils.data.DataLoader(ds_test,batch_size=32, shuffle=False)\n",
        "    \n",
        "    train_model(dl_train,model,opt,criterion,100,device)\n",
        "    (acc,loss)=evaluate(dl_test,model,criterion)\n",
        "    wandb.log({'dev loss':loss,'dev acc':acc})\n",
        "    print(\"accuracy:%4.3f loss:%4.3f\"%(acc,loss))\n",
        "    torch.save(model.state_dict(),'model.pth')\n",
        "    lacc.append(acc)\n",
        "np.mean(lacc),np.std(lacc)"
      ],
      "execution_count": null,
      "outputs": [
        {
          "output_type": "display_data",
          "data": {
            "text/html": [
              "\n",
              "                Logging results to <a href=\"https://wandb.com\" target=\"_blank\">Weights & Biases</a> <a href=\"https://docs.wandb.com/integrations/jupyter.html\" target=\"_blank\">(Documentation)</a>.<br/>\n",
              "                Project page: <a href=\"https://app.wandb.ai/mateus123/aula\" target=\"_blank\">https://app.wandb.ai/mateus123/aula</a><br/>\n",
              "                Run page: <a href=\"https://app.wandb.ai/mateus123/aula/runs/3vwjohcx\" target=\"_blank\">https://app.wandb.ai/mateus123/aula/runs/3vwjohcx</a><br/>\n",
              "            "
            ],
            "text/plain": [
              "<IPython.core.display.HTML object>"
            ]
          },
          "metadata": {
            "tags": []
          }
        },
        {
          "output_type": "stream",
          "text": [
            "accuracy:0.828 loss:0.904\n",
            "accuracy:0.770 loss:1.310\n",
            "accuracy:0.789 loss:1.037\n",
            "accuracy:0.797 loss:1.015\n",
            "accuracy:0.691 loss:1.078\n"
          ],
          "name": "stdout"
        },
        {
          "output_type": "execute_result",
          "data": {
            "text/plain": [
              "(0.775, 0.04586143787949741)"
            ]
          },
          "metadata": {
            "tags": []
          },
          "execution_count": 30
        }
      ]
    },
    {
      "cell_type": "code",
      "metadata": {
        "id": "ANEFw_FW8Hqm",
        "colab_type": "code",
        "colab": {}
      },
      "source": [
        ""
      ],
      "execution_count": null,
      "outputs": []
    }
  ]
}